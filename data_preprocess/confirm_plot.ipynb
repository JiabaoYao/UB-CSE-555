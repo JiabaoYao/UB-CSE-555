{
 "cells": [
  {
   "cell_type": "code",
   "execution_count": 2,
   "id": "169ba10b",
   "metadata": {},
   "outputs": [],
   "source": [
    "import os\n",
    "import numpy as np\n",
    "import matplotlib.pyplot as plt\n",
    "from mpl_toolkits.mplot3d import Axes3D"
   ]
  },
  {
   "cell_type": "code",
   "execution_count": 3,
   "id": "53da57bf",
   "metadata": {},
   "outputs": [
    {
     "ename": "FileNotFoundError",
     "evalue": "[Errno 2] No such file or directory: '00599.npy'",
     "output_type": "error",
     "traceback": [
      "\u001b[1;31m---------------------------------------------------------------------------\u001b[0m",
      "\u001b[1;31mFileNotFoundError\u001b[0m                         Traceback (most recent call last)",
      "Cell \u001b[1;32mIn[3], line 2\u001b[0m\n\u001b[0;32m      1\u001b[0m \u001b[38;5;66;03m# video_matrix = np.load(\"00335.npy\", allow_pickle=True)['data']  # shape: [N, 2]\u001b[39;00m\n\u001b[1;32m----> 2\u001b[0m video_matrix \u001b[38;5;241m=\u001b[39m \u001b[43mnp\u001b[49m\u001b[38;5;241;43m.\u001b[39;49m\u001b[43mload\u001b[49m\u001b[43m(\u001b[49m\u001b[38;5;124;43m\"\u001b[39;49m\u001b[38;5;124;43m00599.npy\u001b[39;49m\u001b[38;5;124;43m\"\u001b[39;49m\u001b[43m)\u001b[49m\n\u001b[0;32m      3\u001b[0m n_samples \u001b[38;5;241m=\u001b[39m \u001b[38;5;28mlen\u001b[39m(video_matrix)\n",
      "File \u001b[1;32mc:\\Users\\19692\\AppData\\Local\\Programs\\Python\\Python311\\Lib\\site-packages\\numpy\\lib\\npyio.py:427\u001b[0m, in \u001b[0;36mload\u001b[1;34m(file, mmap_mode, allow_pickle, fix_imports, encoding, max_header_size)\u001b[0m\n\u001b[0;32m    425\u001b[0m     own_fid \u001b[38;5;241m=\u001b[39m \u001b[38;5;28;01mFalse\u001b[39;00m\n\u001b[0;32m    426\u001b[0m \u001b[38;5;28;01melse\u001b[39;00m:\n\u001b[1;32m--> 427\u001b[0m     fid \u001b[38;5;241m=\u001b[39m stack\u001b[38;5;241m.\u001b[39menter_context(\u001b[38;5;28;43mopen\u001b[39;49m\u001b[43m(\u001b[49m\u001b[43mos_fspath\u001b[49m\u001b[43m(\u001b[49m\u001b[43mfile\u001b[49m\u001b[43m)\u001b[49m\u001b[43m,\u001b[49m\u001b[43m \u001b[49m\u001b[38;5;124;43m\"\u001b[39;49m\u001b[38;5;124;43mrb\u001b[39;49m\u001b[38;5;124;43m\"\u001b[39;49m\u001b[43m)\u001b[49m)\n\u001b[0;32m    428\u001b[0m     own_fid \u001b[38;5;241m=\u001b[39m \u001b[38;5;28;01mTrue\u001b[39;00m\n\u001b[0;32m    430\u001b[0m \u001b[38;5;66;03m# Code to distinguish from NumPy binary files and pickles.\u001b[39;00m\n",
      "\u001b[1;31mFileNotFoundError\u001b[0m: [Errno 2] No such file or directory: '00599.npy'"
     ]
    }
   ],
   "source": [
    "\n",
    "# video_matrix = np.load(\"00335.npy\", allow_pickle=True)['data']  # shape: [N, 2]\n",
    "video_matrix = np.load(\"00599.npy\")\n",
    "n_samples = len(video_matrix)"
   ]
  },
  {
   "cell_type": "code",
   "execution_count": null,
   "id": "6588aafe",
   "metadata": {},
   "outputs": [],
   "source": [
    "# pose skeletons and mapping\n",
    "pose_edges = [(11, 12), (12, 14), (14, 16), (11, 13), (13, 15),\n",
    "              (12, 24), (11, 23), (24, 23)]\n",
    "pose_joints_map = {11: 0, 12: 1, 13: 2, 14: 3, 15: 4, 16: 5, 23: 6, 24: 7}\n",
    "\n",
    "# hand skeletons\n",
    "hand_edges = [\n",
    "    (0, 1), (1, 2), (2, 3), (3, 4),       # Thumb\n",
    "    (0, 5), (5, 6), (6, 7), (7, 8),       # Index\n",
    "    (0, 9), (9,10), (10,11), (11,12),     # Middle\n",
    "    (0,13), (13,14), (14,15), (15,16),    # Ring\n",
    "    (0,17), (17,18), (18,19), (19,20)     # Pinky\n",
    "]\n",
    "\n",
    "def plot_frame(frame_id, frame_vec):\n",
    "    frame_vec = np.array(frame_vec).reshape(-1, 4)  # shape: (50, 4)\n",
    "    \n",
    "    pose = frame_vec[:8]             # Pose: indices 11–24\n",
    "    left_hand = frame_vec[8:29]      # 21 joints\n",
    "    right_hand = frame_vec[29:50]    # 21 joints\n",
    "\n",
    "    fig = plt.figure()\n",
    "    ax = fig.add_subplot(111, projection='3d')\n",
    "\n",
    "    # --- Draw Pose ---\n",
    "    for i, j in pose_edges:\n",
    "        a, b = pose_joints_map[i], pose_joints_map[j]\n",
    "        xA, yA, zA, vA = pose[a]\n",
    "        xB, yB, zB, vB = pose[b]\n",
    "        if vA > 0 and vB > 0:\n",
    "            ax.plot([xA, xB], [yA, yB], [zA, zB], 'b-', linewidth=2)\n",
    "\n",
    "    for idx, (x, y, z, v) in zip(pose_joints_map.keys(), pose):\n",
    "        if v > 0:\n",
    "            ax.scatter(x, y, z, c='blue')\n",
    "            ax.text(x, y, z, f'{idx}', color='blue', fontsize=9)\n",
    "\n",
    "    # --- Draw Left Hand ---\n",
    "    for i, j in hand_edges:\n",
    "        if left_hand[i][3] > 0 and left_hand[j][3] > 0:\n",
    "            ax.plot([left_hand[i][0], left_hand[j][0]],\n",
    "                    [left_hand[i][1], left_hand[j][1]],\n",
    "                    [left_hand[i][2], left_hand[j][2]], 'red', linewidth=1.2)\n",
    "    for i, (x, y, z, v) in enumerate(left_hand):\n",
    "        if v > 0:\n",
    "            ax.scatter(x, y, z, c='red')\n",
    "            ax.text(x, y, z, f'L{i}', color='red', fontsize=8)\n",
    "\n",
    "    # --- Draw Right Hand ---\n",
    "    for i, j in hand_edges:\n",
    "        if right_hand[i][3] > 0 and right_hand[j][3] > 0:\n",
    "            ax.plot([right_hand[i][0], right_hand[j][0]],\n",
    "                    [right_hand[i][1], right_hand[j][1]],\n",
    "                    [right_hand[i][2], right_hand[j][2]], 'green', linewidth=1.2)\n",
    "    for i, (x, y, z, v) in enumerate(right_hand):\n",
    "        if v > 0:\n",
    "            ax.scatter(x, y, z, c='green')\n",
    "            ax.text(x, y, z, f'R{i}', color='green', fontsize=8)\n",
    "\n",
    "    # --- View ---\n",
    "    ax.set_xlabel(\"X\")\n",
    "    ax.set_ylabel(\"Y\")\n",
    "    ax.set_zlabel(\"Z\")\n",
    "    ax.set_title(f\"Frame {frame_id}: Pose + Hands 3D\")\n",
    "    ax.view_init(elev=-100, azim=-90)\n",
    "    ax.set_box_aspect([1, 1, 1])\n",
    "    plt.tight_layout()\n",
    "    plt.show()\n",
    "\n"
   ]
  },
  {
   "cell_type": "code",
   "execution_count": 1,
   "id": "135f10b9",
   "metadata": {},
   "outputs": [
    {
     "ename": "NameError",
     "evalue": "name 'video_matrix' is not defined",
     "output_type": "error",
     "traceback": [
      "\u001b[1;31m---------------------------------------------------------------------------\u001b[0m",
      "\u001b[1;31mNameError\u001b[0m                                 Traceback (most recent call last)",
      "Cell \u001b[1;32mIn[1], line 1\u001b[0m\n\u001b[1;32m----> 1\u001b[0m \u001b[38;5;28;01mfor\u001b[39;00m i, frame \u001b[38;5;129;01min\u001b[39;00m \u001b[38;5;28menumerate\u001b[39m(\u001b[43mvideo_matrix\u001b[49m): \n\u001b[0;32m      2\u001b[0m     plot_frame(i, frame)\n",
      "\u001b[1;31mNameError\u001b[0m: name 'video_matrix' is not defined"
     ]
    }
   ],
   "source": [
    "for i, frame in enumerate(video_matrix): \n",
    "    plot_frame(i, frame)\n"
   ]
  }
 ],
 "metadata": {
  "kernelspec": {
   "display_name": "Python 3",
   "language": "python",
   "name": "python3"
  },
  "language_info": {
   "codemirror_mode": {
    "name": "ipython",
    "version": 3
   },
   "file_extension": ".py",
   "mimetype": "text/x-python",
   "name": "python",
   "nbconvert_exporter": "python",
   "pygments_lexer": "ipython3",
   "version": "3.11.5"
  }
 },
 "nbformat": 4,
 "nbformat_minor": 5
}
