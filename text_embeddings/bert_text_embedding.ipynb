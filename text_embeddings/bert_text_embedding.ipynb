{
 "cells": [
  {
   "cell_type": "code",
   "execution_count": 2,
   "id": "7edd5798",
   "metadata": {},
   "outputs": [
    {
     "name": "stderr",
     "output_type": "stream",
     "text": [
      "c:\\Users\\19692\\AppData\\Local\\Programs\\Python\\Python311\\Lib\\site-packages\\tqdm\\auto.py:21: TqdmWarning: IProgress not found. Please update jupyter and ipywidgets. See https://ipywidgets.readthedocs.io/en/stable/user_install.html\n",
      "  from .autonotebook import tqdm as notebook_tqdm\n"
     ]
    }
   ],
   "source": [
    "import torch\n",
    "from transformers import BertTokenizer, BertModel # pip install transformers\n",
    "import numpy as np"
   ]
  },
  {
   "cell_type": "code",
   "execution_count": 3,
   "id": "8c9aa96c",
   "metadata": {},
   "outputs": [],
   "source": [
    "data = np.load(\"../dataset/dataset_all_padding.npz\", allow_pickle=True)\n",
    "dataset = data['data']"
   ]
  },
  {
   "cell_type": "code",
   "execution_count": 4,
   "id": "370a8877",
   "metadata": {},
   "outputs": [],
   "source": [
    "gloss = [item[0] for item in dataset] # extract gloss"
   ]
  },
  {
   "cell_type": "code",
   "execution_count": 6,
   "id": "5f2b18bb",
   "metadata": {},
   "outputs": [],
   "source": [
    "# Import CLIP Model\n",
    "# reference https://huggingface.co/google-bert/bert-large-uncased\n",
    "tokenizer = BertTokenizer.from_pretrained(\"bert-large-uncased\") # turn glosses into integer token\n",
    "model = BertModel.from_pretrained(\"bert-large-uncased\") # turn tokens into 512-dimensional embedding vector\n"
   ]
  },
  {
   "cell_type": "code",
   "execution_count": 7,
   "id": "ebc766bc",
   "metadata": {},
   "outputs": [],
   "source": [
    "\"\"\"\n",
    "Extract\n",
    "tokens={\n",
    "    input_ids # actual token\n",
    "    attention_mask\n",
    "}\n",
    "\"\"\"\n",
    "tokens = tokenizer(gloss, return_tensors=\"pt\", padding=True, truncation=True)"
   ]
  },
  {
   "cell_type": "code",
   "execution_count": 8,
   "id": "861218af",
   "metadata": {},
   "outputs": [],
   "source": [
    "# Get Embeddings\n",
    "with torch.no_grad():\n",
    "    outputs = model(**tokens)\n",
    "    embeddings = outputs.last_hidden_state[:, 0, :]"
   ]
  },
  {
   "cell_type": "code",
   "execution_count": 10,
   "id": "275edc33",
   "metadata": {},
   "outputs": [],
   "source": [
    "np.save(\"text_embeddings.npy\",embeddings.numpy()) # just for embeddings\n",
    "np.savez(\"gloss_embeddings.npy\", embeddings = embeddings.numpy(),\n",
    "         gloss=np.array(gloss)) # for embedding - gloss pair"
   ]
  }
 ],
 "metadata": {
  "kernelspec": {
   "display_name": "Python 3",
   "language": "python",
   "name": "python3"
  },
  "language_info": {
   "codemirror_mode": {
    "name": "ipython",
    "version": 3
   },
   "file_extension": ".py",
   "mimetype": "text/x-python",
   "name": "python",
   "nbconvert_exporter": "python",
   "pygments_lexer": "ipython3",
   "version": "3.11.5"
  }
 },
 "nbformat": 4,
 "nbformat_minor": 5
}
