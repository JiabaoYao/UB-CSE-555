{
 "cells": [
  {
   "cell_type": "code",
   "execution_count": 57,
   "id": "5a58491e",
   "metadata": {},
   "outputs": [],
   "source": [
    "import numpy as np\n",
    "import torch\n",
    "from sklearn.preprocessing import LabelEncoder"
   ]
  },
  {
   "cell_type": "markdown",
   "id": "e0a4c564",
   "metadata": {},
   "source": [
    "## Data Structure 📖\n",
    "data[i] -> ith data  \n",
    "data = label (data[i][0]) + 3d key points (data[i][1])   \n",
    "3d key point's shape is (195,200) => 195 frames, 200 joint data / frame  \n",
    "200 joint data => 50 joint x 4 values (x,y,z,confidence)  "
   ]
  },
  {
   "cell_type": "code",
   "execution_count": 74,
   "id": "48cbb29a",
   "metadata": {},
   "outputs": [],
   "source": [
    "data = np.load('dataset_padding_new.npy', allow_pickle=True)"
   ]
  },
  {
   "cell_type": "markdown",
   "id": "d6f7521c",
   "metadata": {},
   "source": [
    "## Data Processing for ST-GCN 🔬"
   ]
  },
  {
   "cell_type": "code",
   "execution_count": null,
   "id": "c5ea8d4e",
   "metadata": {},
   "outputs": [],
   "source": [
    "# this function process raw open pose data to data required by st-gcn\n",
    "# however, the graph is not built in this step\n",
    "def process_data(data):\n",
    "    # convert openpose raw data to st-gcn preferred data\n",
    "    labels = []\n",
    "    all_key_points = []\n",
    "    for label, key_points in data:\n",
    "        labels.append(label)\n",
    "        key_points = key_points.reshape(195, 50, 4) # frame-joint-channels(x,y,z,c)\n",
    "        key_points = key_points.transpose(2, 0, 1) # st-gcn requires (channels, time_stamp, joints)\n",
    "        all_key_points.append(key_points)\n",
    "    all_key_points = np.stack(all_key_points)\n",
    "\n",
    "    # label encoding\n",
    "    label_encoder = LabelEncoder()\n",
    "    encoded_label = label_encoder.fit_transform(labels)\n",
    "\n",
    "    # convert to pytorch-like data\n",
    "    x = torch.tensor(all_key_points, dtype=torch.float32)\n",
    "    y = torch.tensor(encoded_label,dtype=torch.long)\n",
    "\n",
    "    class Dataset:\n",
    "        def __init__(self, x, y):\n",
    "            self.X = x\n",
    "            self.Y = y\n",
    "        \n",
    "        def get_length(self):\n",
    "            return len(self.X)\n",
    "        \n",
    "        def get_data(self, idx):\n",
    "            key_points = self.X[idx]\n",
    "            label = self.Y[idx]\n",
    "            return (key_points,label)\n",
    "    \n",
    "    return Dataset(x,y), label_encoder"
   ]
  }
 ],
 "metadata": {
  "kernelspec": {
   "display_name": "Python 3",
   "language": "python",
   "name": "python3"
  },
  "language_info": {
   "codemirror_mode": {
    "name": "ipython",
    "version": 3
   },
   "file_extension": ".py",
   "mimetype": "text/x-python",
   "name": "python",
   "nbconvert_exporter": "python",
   "pygments_lexer": "ipython3",
   "version": "3.11.5"
  }
 },
 "nbformat": 4,
 "nbformat_minor": 5
}
